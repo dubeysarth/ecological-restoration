{
 "cells": [
  {
   "cell_type": "code",
   "execution_count": 1,
   "metadata": {},
   "outputs": [
    {
     "name": "stdout",
     "output_type": "stream",
     "text": [
      "e:\\bk\\sarth\\Github\\ecological-restoration\\Code\\01_Species_Reintroductions\n",
      "e:\\bk\\sarth\\Github\\ecological-restoration\\Code\n",
      "e:\\bk\\sarth\\Github\\ecological-restoration\n"
     ]
    }
   ],
   "source": [
    "import os\n",
    "while os.path.basename(os.getcwd()) != 'ecological-restoration':\n",
    "    os.chdir('..')\n",
    "    print(os.getcwd())"
   ]
  },
  {
   "cell_type": "code",
   "execution_count": 8,
   "metadata": {},
   "outputs": [],
   "source": [
    "import numpy as np\n",
    "import pandas as pd\n",
    "\n",
    "from numbalsoda import lsoda_sig, lsoda, dop853\n",
    "from numba import njit, cfunc\n",
    "import numba as nb"
   ]
  },
  {
   "cell_type": "code",
   "execution_count": 3,
   "metadata": {},
   "outputs": [],
   "source": [
    "import gzip\n",
    "import pickle\n",
    "import pickletools\n",
    "\n",
    "def PickleObj(obj, filepath):\n",
    "    with gzip.open(filepath, \"wb\") as f:\n",
    "        pickled = pickle.dumps(obj)\n",
    "        optimized_pickle = pickletools.optimize(pickled)\n",
    "        f.write(optimized_pickle)\n",
    "\n",
    "def UnpickleObj(filepath):\n",
    "    with gzip.open(filepath, 'rb') as f:\n",
    "        p = pickle.Unpickler(f)\n",
    "        obj = p.load()\n",
    "    return obj"
   ]
  },
  {
   "cell_type": "code",
   "execution_count": 4,
   "metadata": {},
   "outputs": [],
   "source": [
    "M_Real = UnpickleObj(\n",
    "    os.path.join(\n",
    "        os.getcwd(), 'Code', '01_Species_Reintroductions', '01_Simulation_Execution', 'M_Real.pkl'\n",
    "    )\n",
    ")\n",
    "\n",
    "M0 = M_Real['M_PL_041']\n"
   ]
  },
  {
   "cell_type": "code",
   "execution_count": 13,
   "metadata": {},
   "outputs": [],
   "source": [
    "def make_rhs_func(M0):\n",
    "    n, m = M0.shape\n",
    "    D = np.concatenate((np.sum(np.array(M0), axis = 1),np.sum(np.array(M0), axis = 0)), axis = None)\n",
    "    M0 = np.array(M0)\n",
    "\n",
    "    alpha = 0.3\n",
    "    h = 0.7\n",
    "    mu = 1e-4\n",
    "    gamma0 = 1.0\n",
    "    p = 0.5\n",
    "    bii = 1\n",
    "    #bij = 0.01\n",
    "    bij = 0\n",
    "\n",
    "    @cfunc(lsoda_sig)\n",
    "    def rhs(t, u, du, p):\n",
    "        u_ = nb.carray(u, (n + m,))\n",
    "        du_ = nb.carray(du, (n + m,))\n",
    "\n",
    "        for i in range(n):\n",
    "            term1 = mu + u_[i]*alpha \n",
    "\n",
    "            term2 = 0\n",
    "            term3 = 0\n",
    "            for j in range(n):\n",
    "                if i != j:\n",
    "                    term2 += bij*u_[j]\n",
    "                elif i == j:\n",
    "                    term2 += bii*u_[j]\n",
    "            term2 = (-1.0)*term2*u_[i]\n",
    "            for k in range(m):\n",
    "                # if M0[i,k]:\n",
    "                term3 += ((gamma0 / ((D[i])**p))*u_[n+k])*M0[i,k]\n",
    "            term3 = (term3 / (1 + h*term3))*u_[i]\n",
    "\n",
    "            du_[i] = term1 + term2 + term3\n",
    "        \n",
    "        for i in range(m):\n",
    "            term1 = mu + u_[n+i]*alpha\n",
    "\n",
    "            term2 = 0\n",
    "            term3 = 0\n",
    "            for j in range(m):\n",
    "                if i != j:\n",
    "                    term2 += bij*u_[n+j]\n",
    "                elif i == j:\n",
    "                    term2 += bii*u_[n+j]\n",
    "            term2 = (-1.0)*term2*u_[n+i]\n",
    "            for k in range(n):\n",
    "                # if M0[k,i]:\n",
    "                term3 += ((gamma0 / ((D[i+n])**p))*u_[k])*M0[k,i]\n",
    "            term3 = (term3 / (1 + h*term3))*u_[i+n]\n",
    "\n",
    "            du_[i+n] = term1 + term2 + term3\n",
    "            \n",
    "    return rhs"
   ]
  },
  {
   "cell_type": "code",
   "execution_count": 14,
   "metadata": {},
   "outputs": [
    {
     "ename": "TypingError",
     "evalue": "Failed in nopython mode pipeline (step: nopython frontend)\n\u001b[1m\u001b[1mNo implementation of function Function(<built-in function pow>) found for signature:\n \n >>> pow(int64, float64*)\n \nThere are 4 candidate implementations:\n\u001b[1m      - Of which 2 did not match due to:\n      Overload of function 'pow': File: numba\\core\\typing\\npydecl.py: Line 202.\n        With argument(s): '(int64, float64*)':\u001b[0m\n\u001b[1m       No match.\u001b[0m\n\u001b[1m      - Of which 2 did not match due to:\n      Operator Overload in function 'pow': File: unknown: Line unknown.\n        With argument(s): '(int64, float64*)':\u001b[0m\n\u001b[1m       No match for registered cases:\n        * (int64, int64) -> int64\n        * (int64, uint64) -> int64\n        * (uint64, int64) -> int64\n        * (uint64, uint64) -> uint64\n        * (float32, int32) -> float32\n        * (float32, int64) -> float32\n        * (float32, uint64) -> float32\n        * (float64, int32) -> float64\n        * (float64, int64) -> float64\n        * (float64, uint64) -> float64\n        * (float32, float32) -> float32\n        * (float64, float64) -> float64\n        * (complex64, complex64) -> complex64\n        * (complex128, complex128) -> complex128\u001b[0m\n\u001b[0m\n\u001b[0m\u001b[1mDuring: typing of intrinsic-call at C:\\Users\\Sarth\\AppData\\Local\\Temp\\ipykernel_34964\\3543089347.py (33)\u001b[0m\n\u001b[1m\nFile \"C:\\Users\\Sarth\\AppData\\Local\\Temp\\ipykernel_34964\\3543089347.py\", line 33:\u001b[0m\n\u001b[1m    def rhs(t, u, du, p):\n        <source elided>\n                # if M0[i,k]:\n\u001b[1m                term3 += ((gamma0 / ((D[i])**p))*u_[n+k])*M0[i,k]\n\u001b[0m                \u001b[1m^\u001b[0m\u001b[0m\n",
     "output_type": "error",
     "traceback": [
      "\u001b[1;31m---------------------------------------------------------------------------\u001b[0m",
      "\u001b[1;31mTypingError\u001b[0m                               Traceback (most recent call last)",
      "Cell \u001b[1;32mIn[14], line 1\u001b[0m\n\u001b[1;32m----> 1\u001b[0m rhs \u001b[39m=\u001b[39m make_rhs_func(M0)\n\u001b[0;32m      2\u001b[0m funcptr \u001b[39m=\u001b[39m rhs\u001b[39m.\u001b[39maddress\n\u001b[0;32m      3\u001b[0m t_eval \u001b[39m=\u001b[39m np\u001b[39m.\u001b[39mlinspace(\u001b[39m0\u001b[39m, \u001b[39m100\u001b[39m, \u001b[39m50\u001b[39m)\n",
      "Cell \u001b[1;32mIn[13], line 16\u001b[0m, in \u001b[0;36mmake_rhs_func\u001b[1;34m(M0)\u001b[0m\n\u001b[0;32m     12\u001b[0m \u001b[39m#bij = 0.01\u001b[39;00m\n\u001b[0;32m     13\u001b[0m bij \u001b[39m=\u001b[39m \u001b[39m0\u001b[39m\n\u001b[0;32m     15\u001b[0m \u001b[39m@cfunc\u001b[39;49m(lsoda_sig)\n\u001b[1;32m---> 16\u001b[0m \u001b[39mdef\u001b[39;49;00m \u001b[39mrhs\u001b[39;49m(t, u, du, p):\n\u001b[0;32m     17\u001b[0m     u_ \u001b[39m=\u001b[39;49m nb\u001b[39m.\u001b[39;49mcarray(u, (n \u001b[39m+\u001b[39;49m m,))\n\u001b[0;32m     18\u001b[0m     du_ \u001b[39m=\u001b[39;49m nb\u001b[39m.\u001b[39;49mcarray(du, (n \u001b[39m+\u001b[39;49m m,))\n",
      "File \u001b[1;32mc:\\Users\\Sarth\\anaconda3\\envs\\sarth\\lib\\site-packages\\numba\\core\\decorators.py:282\u001b[0m, in \u001b[0;36mcfunc.<locals>.wrapper\u001b[1;34m(func)\u001b[0m\n\u001b[0;32m    280\u001b[0m \u001b[39mif\u001b[39;00m cache:\n\u001b[0;32m    281\u001b[0m     res\u001b[39m.\u001b[39menable_caching()\n\u001b[1;32m--> 282\u001b[0m res\u001b[39m.\u001b[39;49mcompile()\n\u001b[0;32m    283\u001b[0m \u001b[39mreturn\u001b[39;00m res\n",
      "File \u001b[1;32mc:\\Users\\Sarth\\anaconda3\\envs\\sarth\\lib\\site-packages\\numba\\core\\compiler_lock.py:35\u001b[0m, in \u001b[0;36m_CompilerLock.__call__.<locals>._acquire_compile_lock\u001b[1;34m(*args, **kwargs)\u001b[0m\n\u001b[0;32m     32\u001b[0m \u001b[39m@functools\u001b[39m\u001b[39m.\u001b[39mwraps(func)\n\u001b[0;32m     33\u001b[0m \u001b[39mdef\u001b[39;00m \u001b[39m_acquire_compile_lock\u001b[39m(\u001b[39m*\u001b[39margs, \u001b[39m*\u001b[39m\u001b[39m*\u001b[39mkwargs):\n\u001b[0;32m     34\u001b[0m     \u001b[39mwith\u001b[39;00m \u001b[39mself\u001b[39m:\n\u001b[1;32m---> 35\u001b[0m         \u001b[39mreturn\u001b[39;00m func(\u001b[39m*\u001b[39margs, \u001b[39m*\u001b[39m\u001b[39m*\u001b[39mkwargs)\n",
      "File \u001b[1;32mc:\\Users\\Sarth\\anaconda3\\envs\\sarth\\lib\\site-packages\\numba\\core\\ccallback.py:67\u001b[0m, in \u001b[0;36mCFunc.compile\u001b[1;34m(self)\u001b[0m\n\u001b[0;32m     64\u001b[0m cres \u001b[39m=\u001b[39m \u001b[39mself\u001b[39m\u001b[39m.\u001b[39m_cache\u001b[39m.\u001b[39mload_overload(\u001b[39mself\u001b[39m\u001b[39m.\u001b[39m_sig,\n\u001b[0;32m     65\u001b[0m                                  \u001b[39mself\u001b[39m\u001b[39m.\u001b[39m_targetdescr\u001b[39m.\u001b[39mtarget_context)\n\u001b[0;32m     66\u001b[0m \u001b[39mif\u001b[39;00m cres \u001b[39mis\u001b[39;00m \u001b[39mNone\u001b[39;00m:\n\u001b[1;32m---> 67\u001b[0m     cres \u001b[39m=\u001b[39m \u001b[39mself\u001b[39;49m\u001b[39m.\u001b[39;49m_compile_uncached()\n\u001b[0;32m     68\u001b[0m     \u001b[39mself\u001b[39m\u001b[39m.\u001b[39m_cache\u001b[39m.\u001b[39msave_overload(\u001b[39mself\u001b[39m\u001b[39m.\u001b[39m_sig, cres)\n\u001b[0;32m     69\u001b[0m \u001b[39melse\u001b[39;00m:\n",
      "File \u001b[1;32mc:\\Users\\Sarth\\anaconda3\\envs\\sarth\\lib\\site-packages\\numba\\core\\ccallback.py:81\u001b[0m, in \u001b[0;36mCFunc._compile_uncached\u001b[1;34m(self)\u001b[0m\n\u001b[0;32m     78\u001b[0m sig \u001b[39m=\u001b[39m \u001b[39mself\u001b[39m\u001b[39m.\u001b[39m_sig\n\u001b[0;32m     80\u001b[0m \u001b[39m# Compile native function as well as cfunc wrapper\u001b[39;00m\n\u001b[1;32m---> 81\u001b[0m \u001b[39mreturn\u001b[39;00m \u001b[39mself\u001b[39;49m\u001b[39m.\u001b[39;49m_compiler\u001b[39m.\u001b[39;49mcompile(sig\u001b[39m.\u001b[39;49margs, sig\u001b[39m.\u001b[39;49mreturn_type)\n",
      "File \u001b[1;32mc:\\Users\\Sarth\\anaconda3\\envs\\sarth\\lib\\site-packages\\numba\\core\\dispatcher.py:129\u001b[0m, in \u001b[0;36m_FunctionCompiler.compile\u001b[1;34m(self, args, return_type)\u001b[0m\n\u001b[0;32m    127\u001b[0m     \u001b[39mreturn\u001b[39;00m retval\n\u001b[0;32m    128\u001b[0m \u001b[39melse\u001b[39;00m:\n\u001b[1;32m--> 129\u001b[0m     \u001b[39mraise\u001b[39;00m retval\n",
      "File \u001b[1;32mc:\\Users\\Sarth\\anaconda3\\envs\\sarth\\lib\\site-packages\\numba\\core\\dispatcher.py:139\u001b[0m, in \u001b[0;36m_FunctionCompiler._compile_cached\u001b[1;34m(self, args, return_type)\u001b[0m\n\u001b[0;32m    136\u001b[0m     \u001b[39mpass\u001b[39;00m\n\u001b[0;32m    138\u001b[0m \u001b[39mtry\u001b[39;00m:\n\u001b[1;32m--> 139\u001b[0m     retval \u001b[39m=\u001b[39m \u001b[39mself\u001b[39;49m\u001b[39m.\u001b[39;49m_compile_core(args, return_type)\n\u001b[0;32m    140\u001b[0m \u001b[39mexcept\u001b[39;00m errors\u001b[39m.\u001b[39mTypingError \u001b[39mas\u001b[39;00m e:\n\u001b[0;32m    141\u001b[0m     \u001b[39mself\u001b[39m\u001b[39m.\u001b[39m_failed_cache[key] \u001b[39m=\u001b[39m e\n",
      "File \u001b[1;32mc:\\Users\\Sarth\\anaconda3\\envs\\sarth\\lib\\site-packages\\numba\\core\\dispatcher.py:152\u001b[0m, in \u001b[0;36m_FunctionCompiler._compile_core\u001b[1;34m(self, args, return_type)\u001b[0m\n\u001b[0;32m    149\u001b[0m flags \u001b[39m=\u001b[39m \u001b[39mself\u001b[39m\u001b[39m.\u001b[39m_customize_flags(flags)\n\u001b[0;32m    151\u001b[0m impl \u001b[39m=\u001b[39m \u001b[39mself\u001b[39m\u001b[39m.\u001b[39m_get_implementation(args, {})\n\u001b[1;32m--> 152\u001b[0m cres \u001b[39m=\u001b[39m compiler\u001b[39m.\u001b[39;49mcompile_extra(\u001b[39mself\u001b[39;49m\u001b[39m.\u001b[39;49mtargetdescr\u001b[39m.\u001b[39;49mtyping_context,\n\u001b[0;32m    153\u001b[0m                               \u001b[39mself\u001b[39;49m\u001b[39m.\u001b[39;49mtargetdescr\u001b[39m.\u001b[39;49mtarget_context,\n\u001b[0;32m    154\u001b[0m                               impl,\n\u001b[0;32m    155\u001b[0m                               args\u001b[39m=\u001b[39;49margs, return_type\u001b[39m=\u001b[39;49mreturn_type,\n\u001b[0;32m    156\u001b[0m                               flags\u001b[39m=\u001b[39;49mflags, \u001b[39mlocals\u001b[39;49m\u001b[39m=\u001b[39;49m\u001b[39mself\u001b[39;49m\u001b[39m.\u001b[39;49mlocals,\n\u001b[0;32m    157\u001b[0m                               pipeline_class\u001b[39m=\u001b[39;49m\u001b[39mself\u001b[39;49m\u001b[39m.\u001b[39;49mpipeline_class)\n\u001b[0;32m    158\u001b[0m \u001b[39m# Check typing error if object mode is used\u001b[39;00m\n\u001b[0;32m    159\u001b[0m \u001b[39mif\u001b[39;00m cres\u001b[39m.\u001b[39mtyping_error \u001b[39mis\u001b[39;00m \u001b[39mnot\u001b[39;00m \u001b[39mNone\u001b[39;00m \u001b[39mand\u001b[39;00m \u001b[39mnot\u001b[39;00m flags\u001b[39m.\u001b[39menable_pyobject:\n",
      "File \u001b[1;32mc:\\Users\\Sarth\\anaconda3\\envs\\sarth\\lib\\site-packages\\numba\\core\\compiler.py:693\u001b[0m, in \u001b[0;36mcompile_extra\u001b[1;34m(typingctx, targetctx, func, args, return_type, flags, locals, library, pipeline_class)\u001b[0m\n\u001b[0;32m    669\u001b[0m \u001b[39m\u001b[39m\u001b[39m\"\"\"Compiler entry point\u001b[39;00m\n\u001b[0;32m    670\u001b[0m \n\u001b[0;32m    671\u001b[0m \u001b[39mParameter\u001b[39;00m\n\u001b[1;32m   (...)\u001b[0m\n\u001b[0;32m    689\u001b[0m \u001b[39m    compiler pipeline\u001b[39;00m\n\u001b[0;32m    690\u001b[0m \u001b[39m\"\"\"\u001b[39;00m\n\u001b[0;32m    691\u001b[0m pipeline \u001b[39m=\u001b[39m pipeline_class(typingctx, targetctx, library,\n\u001b[0;32m    692\u001b[0m                           args, return_type, flags, \u001b[39mlocals\u001b[39m)\n\u001b[1;32m--> 693\u001b[0m \u001b[39mreturn\u001b[39;00m pipeline\u001b[39m.\u001b[39;49mcompile_extra(func)\n",
      "File \u001b[1;32mc:\\Users\\Sarth\\anaconda3\\envs\\sarth\\lib\\site-packages\\numba\\core\\compiler.py:429\u001b[0m, in \u001b[0;36mCompilerBase.compile_extra\u001b[1;34m(self, func)\u001b[0m\n\u001b[0;32m    427\u001b[0m \u001b[39mself\u001b[39m\u001b[39m.\u001b[39mstate\u001b[39m.\u001b[39mlifted \u001b[39m=\u001b[39m ()\n\u001b[0;32m    428\u001b[0m \u001b[39mself\u001b[39m\u001b[39m.\u001b[39mstate\u001b[39m.\u001b[39mlifted_from \u001b[39m=\u001b[39m \u001b[39mNone\u001b[39;00m\n\u001b[1;32m--> 429\u001b[0m \u001b[39mreturn\u001b[39;00m \u001b[39mself\u001b[39;49m\u001b[39m.\u001b[39;49m_compile_bytecode()\n",
      "File \u001b[1;32mc:\\Users\\Sarth\\anaconda3\\envs\\sarth\\lib\\site-packages\\numba\\core\\compiler.py:497\u001b[0m, in \u001b[0;36mCompilerBase._compile_bytecode\u001b[1;34m(self)\u001b[0m\n\u001b[0;32m    493\u001b[0m \u001b[39m\u001b[39m\u001b[39m\"\"\"\u001b[39;00m\n\u001b[0;32m    494\u001b[0m \u001b[39mPopulate and run pipeline for bytecode input\u001b[39;00m\n\u001b[0;32m    495\u001b[0m \u001b[39m\"\"\"\u001b[39;00m\n\u001b[0;32m    496\u001b[0m \u001b[39massert\u001b[39;00m \u001b[39mself\u001b[39m\u001b[39m.\u001b[39mstate\u001b[39m.\u001b[39mfunc_ir \u001b[39mis\u001b[39;00m \u001b[39mNone\u001b[39;00m\n\u001b[1;32m--> 497\u001b[0m \u001b[39mreturn\u001b[39;00m \u001b[39mself\u001b[39;49m\u001b[39m.\u001b[39;49m_compile_core()\n",
      "File \u001b[1;32mc:\\Users\\Sarth\\anaconda3\\envs\\sarth\\lib\\site-packages\\numba\\core\\compiler.py:476\u001b[0m, in \u001b[0;36mCompilerBase._compile_core\u001b[1;34m(self)\u001b[0m\n\u001b[0;32m    474\u001b[0m         \u001b[39mself\u001b[39m\u001b[39m.\u001b[39mstate\u001b[39m.\u001b[39mstatus\u001b[39m.\u001b[39mfail_reason \u001b[39m=\u001b[39m e\n\u001b[0;32m    475\u001b[0m         \u001b[39mif\u001b[39;00m is_final_pipeline:\n\u001b[1;32m--> 476\u001b[0m             \u001b[39mraise\u001b[39;00m e\n\u001b[0;32m    477\u001b[0m \u001b[39melse\u001b[39;00m:\n\u001b[0;32m    478\u001b[0m     \u001b[39mraise\u001b[39;00m CompilerError(\u001b[39m\"\u001b[39m\u001b[39mAll available pipelines exhausted\u001b[39m\u001b[39m\"\u001b[39m)\n",
      "File \u001b[1;32mc:\\Users\\Sarth\\anaconda3\\envs\\sarth\\lib\\site-packages\\numba\\core\\compiler.py:463\u001b[0m, in \u001b[0;36mCompilerBase._compile_core\u001b[1;34m(self)\u001b[0m\n\u001b[0;32m    461\u001b[0m res \u001b[39m=\u001b[39m \u001b[39mNone\u001b[39;00m\n\u001b[0;32m    462\u001b[0m \u001b[39mtry\u001b[39;00m:\n\u001b[1;32m--> 463\u001b[0m     pm\u001b[39m.\u001b[39;49mrun(\u001b[39mself\u001b[39;49m\u001b[39m.\u001b[39;49mstate)\n\u001b[0;32m    464\u001b[0m     \u001b[39mif\u001b[39;00m \u001b[39mself\u001b[39m\u001b[39m.\u001b[39mstate\u001b[39m.\u001b[39mcr \u001b[39mis\u001b[39;00m \u001b[39mnot\u001b[39;00m \u001b[39mNone\u001b[39;00m:\n\u001b[0;32m    465\u001b[0m         \u001b[39mbreak\u001b[39;00m\n",
      "File \u001b[1;32mc:\\Users\\Sarth\\anaconda3\\envs\\sarth\\lib\\site-packages\\numba\\core\\compiler_machinery.py:353\u001b[0m, in \u001b[0;36mPassManager.run\u001b[1;34m(self, state)\u001b[0m\n\u001b[0;32m    350\u001b[0m msg \u001b[39m=\u001b[39m \u001b[39m\"\u001b[39m\u001b[39mFailed in \u001b[39m\u001b[39m%s\u001b[39;00m\u001b[39m mode pipeline (step: \u001b[39m\u001b[39m%s\u001b[39;00m\u001b[39m)\u001b[39m\u001b[39m\"\u001b[39m \u001b[39m%\u001b[39m \\\n\u001b[0;32m    351\u001b[0m     (\u001b[39mself\u001b[39m\u001b[39m.\u001b[39mpipeline_name, pass_desc)\n\u001b[0;32m    352\u001b[0m patched_exception \u001b[39m=\u001b[39m \u001b[39mself\u001b[39m\u001b[39m.\u001b[39m_patch_error(msg, e)\n\u001b[1;32m--> 353\u001b[0m \u001b[39mraise\u001b[39;00m patched_exception\n",
      "File \u001b[1;32mc:\\Users\\Sarth\\anaconda3\\envs\\sarth\\lib\\site-packages\\numba\\core\\compiler_machinery.py:341\u001b[0m, in \u001b[0;36mPassManager.run\u001b[1;34m(self, state)\u001b[0m\n\u001b[0;32m    339\u001b[0m pass_inst \u001b[39m=\u001b[39m _pass_registry\u001b[39m.\u001b[39mget(pss)\u001b[39m.\u001b[39mpass_inst\n\u001b[0;32m    340\u001b[0m \u001b[39mif\u001b[39;00m \u001b[39misinstance\u001b[39m(pass_inst, CompilerPass):\n\u001b[1;32m--> 341\u001b[0m     \u001b[39mself\u001b[39;49m\u001b[39m.\u001b[39;49m_runPass(idx, pass_inst, state)\n\u001b[0;32m    342\u001b[0m \u001b[39melse\u001b[39;00m:\n\u001b[0;32m    343\u001b[0m     \u001b[39mraise\u001b[39;00m \u001b[39mBaseException\u001b[39;00m(\u001b[39m\"\u001b[39m\u001b[39mLegacy pass in use\u001b[39m\u001b[39m\"\u001b[39m)\n",
      "File \u001b[1;32mc:\\Users\\Sarth\\anaconda3\\envs\\sarth\\lib\\site-packages\\numba\\core\\compiler_lock.py:35\u001b[0m, in \u001b[0;36m_CompilerLock.__call__.<locals>._acquire_compile_lock\u001b[1;34m(*args, **kwargs)\u001b[0m\n\u001b[0;32m     32\u001b[0m \u001b[39m@functools\u001b[39m\u001b[39m.\u001b[39mwraps(func)\n\u001b[0;32m     33\u001b[0m \u001b[39mdef\u001b[39;00m \u001b[39m_acquire_compile_lock\u001b[39m(\u001b[39m*\u001b[39margs, \u001b[39m*\u001b[39m\u001b[39m*\u001b[39mkwargs):\n\u001b[0;32m     34\u001b[0m     \u001b[39mwith\u001b[39;00m \u001b[39mself\u001b[39m:\n\u001b[1;32m---> 35\u001b[0m         \u001b[39mreturn\u001b[39;00m func(\u001b[39m*\u001b[39margs, \u001b[39m*\u001b[39m\u001b[39m*\u001b[39mkwargs)\n",
      "File \u001b[1;32mc:\\Users\\Sarth\\anaconda3\\envs\\sarth\\lib\\site-packages\\numba\\core\\compiler_machinery.py:296\u001b[0m, in \u001b[0;36mPassManager._runPass\u001b[1;34m(self, index, pss, internal_state)\u001b[0m\n\u001b[0;32m    294\u001b[0m     mutated \u001b[39m|\u001b[39m\u001b[39m=\u001b[39m check(pss\u001b[39m.\u001b[39mrun_initialization, internal_state)\n\u001b[0;32m    295\u001b[0m \u001b[39mwith\u001b[39;00m SimpleTimer() \u001b[39mas\u001b[39;00m pass_time:\n\u001b[1;32m--> 296\u001b[0m     mutated \u001b[39m|\u001b[39m\u001b[39m=\u001b[39m check(pss\u001b[39m.\u001b[39;49mrun_pass, internal_state)\n\u001b[0;32m    297\u001b[0m \u001b[39mwith\u001b[39;00m SimpleTimer() \u001b[39mas\u001b[39;00m finalize_time:\n\u001b[0;32m    298\u001b[0m     mutated \u001b[39m|\u001b[39m\u001b[39m=\u001b[39m check(pss\u001b[39m.\u001b[39mrun_finalizer, internal_state)\n",
      "File \u001b[1;32mc:\\Users\\Sarth\\anaconda3\\envs\\sarth\\lib\\site-packages\\numba\\core\\compiler_machinery.py:269\u001b[0m, in \u001b[0;36mPassManager._runPass.<locals>.check\u001b[1;34m(func, compiler_state)\u001b[0m\n\u001b[0;32m    268\u001b[0m \u001b[39mdef\u001b[39;00m \u001b[39mcheck\u001b[39m(func, compiler_state):\n\u001b[1;32m--> 269\u001b[0m     mangled \u001b[39m=\u001b[39m func(compiler_state)\n\u001b[0;32m    270\u001b[0m     \u001b[39mif\u001b[39;00m mangled \u001b[39mnot\u001b[39;00m \u001b[39min\u001b[39;00m (\u001b[39mTrue\u001b[39;00m, \u001b[39mFalse\u001b[39;00m):\n\u001b[0;32m    271\u001b[0m         msg \u001b[39m=\u001b[39m (\u001b[39m\"\u001b[39m\u001b[39mCompilerPass implementations should return True/False. \u001b[39m\u001b[39m\"\u001b[39m\n\u001b[0;32m    272\u001b[0m                \u001b[39m\"\u001b[39m\u001b[39mCompilerPass with name \u001b[39m\u001b[39m'\u001b[39m\u001b[39m%s\u001b[39;00m\u001b[39m'\u001b[39m\u001b[39m did not.\u001b[39m\u001b[39m\"\u001b[39m)\n",
      "File \u001b[1;32mc:\\Users\\Sarth\\anaconda3\\envs\\sarth\\lib\\site-packages\\numba\\core\\typed_passes.py:105\u001b[0m, in \u001b[0;36mBaseTypeInference.run_pass\u001b[1;34m(self, state)\u001b[0m\n\u001b[0;32m     99\u001b[0m \u001b[39m\u001b[39m\u001b[39m\"\"\"\u001b[39;00m\n\u001b[0;32m    100\u001b[0m \u001b[39mType inference and legalization\u001b[39;00m\n\u001b[0;32m    101\u001b[0m \u001b[39m\"\"\"\u001b[39;00m\n\u001b[0;32m    102\u001b[0m \u001b[39mwith\u001b[39;00m fallback_context(state, \u001b[39m'\u001b[39m\u001b[39mFunction \u001b[39m\u001b[39m\"\u001b[39m\u001b[39m%s\u001b[39;00m\u001b[39m\"\u001b[39m\u001b[39m failed type inference\u001b[39m\u001b[39m'\u001b[39m\n\u001b[0;32m    103\u001b[0m                       \u001b[39m%\u001b[39m (state\u001b[39m.\u001b[39mfunc_id\u001b[39m.\u001b[39mfunc_name,)):\n\u001b[0;32m    104\u001b[0m     \u001b[39m# Type inference\u001b[39;00m\n\u001b[1;32m--> 105\u001b[0m     typemap, return_type, calltypes, errs \u001b[39m=\u001b[39m type_inference_stage(\n\u001b[0;32m    106\u001b[0m         state\u001b[39m.\u001b[39;49mtypingctx,\n\u001b[0;32m    107\u001b[0m         state\u001b[39m.\u001b[39;49mtargetctx,\n\u001b[0;32m    108\u001b[0m         state\u001b[39m.\u001b[39;49mfunc_ir,\n\u001b[0;32m    109\u001b[0m         state\u001b[39m.\u001b[39;49margs,\n\u001b[0;32m    110\u001b[0m         state\u001b[39m.\u001b[39;49mreturn_type,\n\u001b[0;32m    111\u001b[0m         state\u001b[39m.\u001b[39;49mlocals,\n\u001b[0;32m    112\u001b[0m         raise_errors\u001b[39m=\u001b[39;49m\u001b[39mself\u001b[39;49m\u001b[39m.\u001b[39;49m_raise_errors)\n\u001b[0;32m    113\u001b[0m     state\u001b[39m.\u001b[39mtypemap \u001b[39m=\u001b[39m typemap\n\u001b[0;32m    114\u001b[0m     \u001b[39m# save errors in case of partial typing\u001b[39;00m\n",
      "File \u001b[1;32mc:\\Users\\Sarth\\anaconda3\\envs\\sarth\\lib\\site-packages\\numba\\core\\typed_passes.py:83\u001b[0m, in \u001b[0;36mtype_inference_stage\u001b[1;34m(typingctx, targetctx, interp, args, return_type, locals, raise_errors)\u001b[0m\n\u001b[0;32m     81\u001b[0m     infer\u001b[39m.\u001b[39mbuild_constraint()\n\u001b[0;32m     82\u001b[0m     \u001b[39m# return errors in case of partial typing\u001b[39;00m\n\u001b[1;32m---> 83\u001b[0m     errs \u001b[39m=\u001b[39m infer\u001b[39m.\u001b[39;49mpropagate(raise_errors\u001b[39m=\u001b[39;49mraise_errors)\n\u001b[0;32m     84\u001b[0m     typemap, restype, calltypes \u001b[39m=\u001b[39m infer\u001b[39m.\u001b[39munify(raise_errors\u001b[39m=\u001b[39mraise_errors)\n\u001b[0;32m     86\u001b[0m \u001b[39m# Output all Numba warnings\u001b[39;00m\n",
      "File \u001b[1;32mc:\\Users\\Sarth\\anaconda3\\envs\\sarth\\lib\\site-packages\\numba\\core\\typeinfer.py:1086\u001b[0m, in \u001b[0;36mTypeInferer.propagate\u001b[1;34m(self, raise_errors)\u001b[0m\n\u001b[0;32m   1083\u001b[0m force_lit_args \u001b[39m=\u001b[39m [e \u001b[39mfor\u001b[39;00m e \u001b[39min\u001b[39;00m errors\n\u001b[0;32m   1084\u001b[0m                   \u001b[39mif\u001b[39;00m \u001b[39misinstance\u001b[39m(e, ForceLiteralArg)]\n\u001b[0;32m   1085\u001b[0m \u001b[39mif\u001b[39;00m \u001b[39mnot\u001b[39;00m force_lit_args:\n\u001b[1;32m-> 1086\u001b[0m     \u001b[39mraise\u001b[39;00m errors[\u001b[39m0\u001b[39m]\n\u001b[0;32m   1087\u001b[0m \u001b[39melse\u001b[39;00m:\n\u001b[0;32m   1088\u001b[0m     \u001b[39mraise\u001b[39;00m reduce(operator\u001b[39m.\u001b[39mor_, force_lit_args)\n",
      "\u001b[1;31mTypingError\u001b[0m: Failed in nopython mode pipeline (step: nopython frontend)\n\u001b[1m\u001b[1mNo implementation of function Function(<built-in function pow>) found for signature:\n \n >>> pow(int64, float64*)\n \nThere are 4 candidate implementations:\n\u001b[1m      - Of which 2 did not match due to:\n      Overload of function 'pow': File: numba\\core\\typing\\npydecl.py: Line 202.\n        With argument(s): '(int64, float64*)':\u001b[0m\n\u001b[1m       No match.\u001b[0m\n\u001b[1m      - Of which 2 did not match due to:\n      Operator Overload in function 'pow': File: unknown: Line unknown.\n        With argument(s): '(int64, float64*)':\u001b[0m\n\u001b[1m       No match for registered cases:\n        * (int64, int64) -> int64\n        * (int64, uint64) -> int64\n        * (uint64, int64) -> int64\n        * (uint64, uint64) -> uint64\n        * (float32, int32) -> float32\n        * (float32, int64) -> float32\n        * (float32, uint64) -> float32\n        * (float64, int32) -> float64\n        * (float64, int64) -> float64\n        * (float64, uint64) -> float64\n        * (float32, float32) -> float32\n        * (float64, float64) -> float64\n        * (complex64, complex64) -> complex64\n        * (complex128, complex128) -> complex128\u001b[0m\n\u001b[0m\n\u001b[0m\u001b[1mDuring: typing of intrinsic-call at C:\\Users\\Sarth\\AppData\\Local\\Temp\\ipykernel_34964\\3543089347.py (33)\u001b[0m\n\u001b[1m\nFile \"C:\\Users\\Sarth\\AppData\\Local\\Temp\\ipykernel_34964\\3543089347.py\", line 33:\u001b[0m\n\u001b[1m    def rhs(t, u, du, p):\n        <source elided>\n                # if M0[i,k]:\n\u001b[1m                term3 += ((gamma0 / ((D[i])**p))*u_[n+k])*M0[i,k]\n\u001b[0m                \u001b[1m^\u001b[0m\u001b[0m\n"
     ]
    }
   ],
   "source": [
    "rhs = make_rhs_func(M0)\n",
    "funcptr = rhs.address\n",
    "t_eval = np.linspace(0, 100, 50)\n",
    "n, m = M0.shape\n",
    "u0 = np.ones(n)*10e-3\n",
    "usol, success = lsoda(funcptr, u0, t_eval)"
   ]
  },
  {
   "cell_type": "code",
   "execution_count": null,
   "metadata": {},
   "outputs": [],
   "source": [
    "rhs = make_pp_2d(M0)\n",
    "funcptr = rhs.address\n",
    "t_eval = np.linspace(0, 100, 50)\n",
    "n, m = M0.shape\n",
    "u0 = np.ones(n)*10e-3\n",
    "usol, success = lsoda(funcptr, u0, t_eval, data = data)"
   ]
  },
  {
   "cell_type": "code",
   "execution_count": 3,
   "metadata": {},
   "outputs": [
    {
     "name": "stdout",
     "output_type": "stream",
     "text": [
      "True True\n"
     ]
    }
   ],
   "source": [
    "@cfunc(lsoda_sig)\n",
    "def rhs(t, u, du, p):\n",
    "    du[0] = u[0]-u[0]*u[1]\n",
    "    du[1] = u[0]*u[1]-u[1]*p[0]\n",
    "\n",
    "funcptr = rhs.address # address to ODE function\n",
    "u0 = np.array([5.,0.8]) # Initial conditions\n",
    "data = np.array([1.0]) # data you want to pass to rhs (data == p in the rhs).\n",
    "t_eval = np.linspace(0.0,50.0,1000) # times to evaluate solution\n",
    "\n",
    "# integrate with lsoda method\n",
    "usol, success = lsoda(funcptr, u0, t_eval, data = data)\n",
    "\n",
    "# integrate with dop853 method\n",
    "usol1, success1 = dop853(funcptr, u0, t_eval, data = data)\n",
    "\n",
    "print(success, success1)\n",
    "\n",
    "# usol = solution\n",
    "# success = True/False"
   ]
  },
  {
   "cell_type": "code",
   "execution_count": null,
   "metadata": {},
   "outputs": [],
   "source": []
  }
 ],
 "metadata": {
  "kernelspec": {
   "display_name": "sarth",
   "language": "python",
   "name": "python3"
  },
  "language_info": {
   "codemirror_mode": {
    "name": "ipython",
    "version": 3
   },
   "file_extension": ".py",
   "mimetype": "text/x-python",
   "name": "python",
   "nbconvert_exporter": "python",
   "pygments_lexer": "ipython3",
   "version": "3.9.17"
  },
  "orig_nbformat": 4
 },
 "nbformat": 4,
 "nbformat_minor": 2
}
