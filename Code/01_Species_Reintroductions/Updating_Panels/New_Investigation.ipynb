{
 "cells": [
  {
   "cell_type": "code",
   "execution_count": 1,
   "metadata": {},
   "outputs": [
    {
     "name": "stdout",
     "output_type": "stream",
     "text": [
      "d:\\Github\\ecological-networks\\Code\\01_Species_Reintroductions\n",
      "d:\\Github\\ecological-networks\\Code\n",
      "d:\\Github\\ecological-networks\n",
      "Real_2D\n"
     ]
    }
   ],
   "source": [
    " ####### Setup\n",
    "import os\n",
    "import matplotlib as mpl\n",
    "import matplotlib.pyplot as plt\n",
    "from matplotlib.tri import Triangulation\n",
    "from matplotlib.patches import Patch\n",
    "from matplotlib.patches import Rectangle\n",
    "from matplotlib.lines import Line2D\n",
    "from matplotlib.offsetbox import OffsetImage,AnnotationBbox,TextArea\n",
    "import cartopy.crs as ccrs\n",
    "import cartopy.feature as cfeature\n",
    "import cv2\n",
    "from scipy import stats\n",
    "from sklearn.linear_model import LinearRegression\n",
    "from sklearn import preprocessing\n",
    "while os.getcwd().split('\\\\')[-1] != 'ecological-networks':\n",
    "    %cd ..\n",
    "import setup_paths\n",
    "setup_paths.add_path()\n",
    "from Species_Reintroductions import *\n",
    "global DATA_TYPE\n",
    "DATA_TYPE = 'Real_2D'\n",
    "CASE_TO_SOLVE_init(DATA_TYPE)\n",
    "get_CASE()\n",
    "\n",
    "def CASE_init(CASE_TO_SOLVE):\n",
    "    DATA_TYPE = CASE_TO_SOLVE\n",
    "    CASE_TO_SOLVE_init(DATA_TYPE)\n",
    "    NetworkName_Solved_df = UnpickleObj(os.path.join(os.getcwd(), 'Code', '01_Species_Reintroductions', '01_Simulation_Execution', f\"Network_Solved_{DATA_TYPE.split('_')[0]}.pkl\"))\n",
    "    M = UnpickleObj(os.path.join(os.getcwd(), 'Code', '01_Species_Reintroductions', '01_Simulation_Execution', f\"M_{DATA_TYPE.split('_')[0]}.pkl\"))\n",
    "    if DATA_TYPE.split('_')[0] == 'Syn':\n",
    "        M = {k:M[k] for k in M.keys() if int(k.split('_')[2]) == 100}\n",
    "    return DATA_TYPE, NetworkName_Solved_df, M\n",
    "\n",
    "def init_HeatmapData(Case, Start = 0, End = -1):\n",
    "    if End == -1:\n",
    "        End = Start + 1\n",
    "    if Case == 1:\n",
    "        Heatmap01_All = UnpickleObj(os.path.join(os.getcwd(), 'Code', '01_Species_Reintroductions', '02_Generate_Database', f\"Heatmap01_{DATA_TYPE}.pkl\"))\n",
    "        return {k:Heatmap01_All[k][Start:End] for k in Heatmap01_All.keys()}\n",
    "    if Case == 2:\n",
    "        Heatmap02_All = UnpickleObj(os.path.join(os.getcwd(), 'Code', '01_Species_Reintroductions', '02_Generate_Database', f\"Heatmap02_{DATA_TYPE}.pkl\"))\n",
    "        return {k:Heatmap02_All[k][Start:End] for k in Heatmap02_All.keys()}\n",
    "    if Case == 3:\n",
    "        Heatmap03_All = UnpickleObj(os.path.join(os.getcwd(), 'Code', '01_Species_Reintroductions', '02_Generate_Database', f\"Heatmap03_{DATA_TYPE}.pkl\"))\n",
    "        return {k:Heatmap03_All[k][Start:End] for k in Heatmap03_All.keys()}"
   ]
  },
  {
   "cell_type": "code",
   "execution_count": 2,
   "metadata": {},
   "outputs": [],
   "source": [
    "M_Real = UnpickleObj(r\"D:\\Github\\ecological-networks\\Code\\01_Species_Reintroductions\\01_Simulation_Execution\\M_Real.pkl\")"
   ]
  },
  {
   "cell_type": "code",
   "execution_count": 3,
   "metadata": {},
   "outputs": [],
   "source": [
    "D = UnpickleObj(os.path.join(os.getcwd(), 'Code', '01_Species_Reintroductions', 'Updating_Panels', 'strategy_performance_02.pkl'))"
   ]
  },
  {
   "cell_type": "code",
   "execution_count": 9,
   "metadata": {},
   "outputs": [],
   "source": [
    "# D[NetworkName][s][var][key]\n",
    "\n",
    "temp_1 = np.array(D['M_PL_041'][1]['Abundance'][0])\n",
    "temp_2 = np.array(D['M_PL_041'][3]['Abundance'][0])\n",
    "\n",
    "cnt = 0\n",
    "temp = []\n",
    "for i in range(len(temp_1)):\n",
    "    if temp_1[i] != temp_2[i]:\n",
    "        cnt += 1\n",
    "        # print(f\"{i}: {temp_1[i]} {temp_2[i]}\")\n",
    "        temp.append([temp_1[i], temp_2[i]])\n",
    "temp = np.array(temp)"
   ]
  },
  {
   "cell_type": "code",
   "execution_count": 10,
   "metadata": {},
   "outputs": [
    {
     "data": {
      "text/plain": [
       "(77, 2)"
      ]
     },
     "execution_count": 10,
     "metadata": {},
     "output_type": "execute_result"
    }
   ],
   "source": [
    "temp.shape"
   ]
  },
  {
   "cell_type": "code",
   "execution_count": 15,
   "metadata": {},
   "outputs": [
    {
     "data": {
      "text/plain": [
       "{'whiskers': [<matplotlib.lines.Line2D at 0x17d5b10f2e8>,\n",
       "  <matplotlib.lines.Line2D at 0x17d5b10f5f8>],\n",
       " 'caps': [<matplotlib.lines.Line2D at 0x17d5b10f8d0>,\n",
       "  <matplotlib.lines.Line2D at 0x17d5b10fba8>],\n",
       " 'boxes': [<matplotlib.lines.Line2D at 0x17d5b10f080>],\n",
       " 'medians': [<matplotlib.lines.Line2D at 0x17d5b10fe80>],\n",
       " 'fliers': [<matplotlib.lines.Line2D at 0x17d5b11a198>],\n",
       " 'means': []}"
      ]
     },
     "execution_count": 15,
     "metadata": {},
     "output_type": "execute_result"
    },
    {
     "data": {
      "image/png": "[encoded data removed]",
      "text/plain": [
       "<Figure size 432x288 with 1 Axes>"
      ]
     },
     "metadata": {
      "needs_background": "light"
     },
     "output_type": "display_data"
    }
   ],
   "source": [
    "plt.boxplot(temp[:,1]-temp[:,0])"
   ]
  },
  {
   "cell_type": "code",
   "execution_count": 13,
   "metadata": {},
   "outputs": [
    {
     "data": {
      "image/png": "[encoded data removed]",
      "text/plain": [
       "<Figure size 432x288 with 1 Axes>"
      ]
     },
     "metadata": {
      "needs_background": "light"
     },
     "output_type": "display_data"
    }
   ],
   "source": [
    "plt.figure()\n",
    "plt.scatter(temp[:,0],temp[:,1])\n",
    "plt.plot([0.7,0.75],[0.7,0.75])\n",
    "plt.show()"
   ]
  }
 ],
 "metadata": {
  "kernelspec": {
   "display_name": "master",
   "language": "python",
   "name": "python3"
  },
  "language_info": {
   "codemirror_mode": {
    "name": "ipython",
    "version": 3
   },
   "file_extension": ".py",
   "mimetype": "text/x-python",
   "name": "python",
   "nbconvert_exporter": "python",
   "pygments_lexer": "ipython3",
   "version": "3.6.13"
  },
  "orig_nbformat": 4,
  "vscode": {
   "interpreter": {
    "hash": "c7024f276b2ccf296a62924fe20c7f549f0c68ae16423d773b8a7d5d0cc9a209"
   }
  }
 },
 "nbformat": 4,
 "nbformat_minor": 2
}
