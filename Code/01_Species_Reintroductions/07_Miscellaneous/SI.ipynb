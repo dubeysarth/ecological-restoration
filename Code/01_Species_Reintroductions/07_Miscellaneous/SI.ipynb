{
 "cells": [
  {
   "cell_type": "code",
   "execution_count": null,
   "source": [
    "####### Setup\r\n",
    "import os\r\n",
    "from venn import venn\r\n",
    "from scipy import stats\r\n",
    "from sklearn.linear_model import LinearRegression\r\n",
    "from sklearn import preprocessing\r\n",
    "import matplotlib.pyplot as plt\r\n",
    "from matplotlib.patches import Patch\r\n",
    "from matplotlib.lines import Line2D\r\n",
    "from matplotlib.offsetbox import OffsetImage,AnnotationBbox,TextArea\r\n",
    "import cartopy.crs as ccrs\r\n",
    "import cartopy.feature as cfeature\r\n",
    "import cv2\r\n",
    "while os.getcwd().split('\\\\')[-1] != 'ecological-networks':\r\n",
    "    %cd ..\r\n",
    "import setup_paths\r\n",
    "setup_paths.add_path()\r\n",
    "from Species_Reintroductions import *\r\n",
    "global DATA_TYPE\r\n",
    "DATA_TYPE = 'Real_2D'\r\n",
    "CASE_TO_SOLVE_init(DATA_TYPE)\r\n",
    "get_CASE()\r\n",
    "\r\n",
    "def CASE_init(CASE_TO_SOLVE):\r\n",
    "    DATA_TYPE = CASE_TO_SOLVE\r\n",
    "    CASE_TO_SOLVE_init(DATA_TYPE)\r\n",
    "    NetworkName_Solved_df = UnpickleObj(os.path.join(os.getcwd(), 'Code', '01_Species_Reintroductions', '01_Simulation_Execution', f\"Network_Solved_{DATA_TYPE.split('_')[0]}.pkl\"))\r\n",
    "    M = UnpickleObj(os.path.join(os.getcwd(), 'Code', '01_Species_Reintroductions', '01_Simulation_Execution', f\"M_{DATA_TYPE.split('_')[0]}.pkl\"))\r\n",
    "    if DATA_TYPE.split('_')[0] == 'Syn':\r\n",
    "        M = {k:M[k] for k in M.keys() if int(k.split('_')[2]) == 100}\r\n",
    "    return DATA_TYPE, NetworkName_Solved_df, M\r\n",
    "\r\n",
    "def init_HeatmapData(Case, Start = 0, End = -1):\r\n",
    "    if End == -1:\r\n",
    "        End = Start + 1\r\n",
    "    if Case == 1:\r\n",
    "        Heatmap01_All = UnpickleObj(os.path.join(os.getcwd(), 'Code', '01_Species_Reintroductions', '02_Generate_Database', f\"Heatmap01_{DATA_TYPE}.pkl\"))\r\n",
    "        return {k:Heatmap01_All[k][Start:End] for k in Heatmap01_All.keys()}\r\n",
    "    if Case == 2:\r\n",
    "        Heatmap02_All = UnpickleObj(os.path.join(os.getcwd(), 'Code', '01_Species_Reintroductions', '02_Generate_Database', f\"Heatmap02_{DATA_TYPE}.pkl\"))\r\n",
    "        return {k:Heatmap02_All[k][Start:End] for k in Heatmap02_All.keys()}\r\n",
    "    if Case == 3:\r\n",
    "        Heatmap03_All = UnpickleObj(os.path.join(os.getcwd(), 'Code', '01_Species_Reintroductions', '02_Generate_Database', f\"Heatmap03_{DATA_TYPE}.pkl\"))\r\n",
    "        return {k:Heatmap03_All[k][Start:End] for k in Heatmap03_All.keys()}"
   ],
   "outputs": [],
   "metadata": {}
  },
  {
   "cell_type": "code",
   "execution_count": null,
   "source": [
    "####### Dynamics of Reintroductions\r\n"
   ],
   "outputs": [],
   "metadata": {}
  },
  {
   "cell_type": "code",
   "execution_count": null,
   "source": [
    "####### Strategic and Non-Strategic Interventions\r\n"
   ],
   "outputs": [],
   "metadata": {}
  },
  {
   "cell_type": "code",
   "execution_count": null,
   "source": [
    "####### Relative Performance and Competition\r\n"
   ],
   "outputs": [],
   "metadata": {}
  },
  {
   "cell_type": "code",
   "execution_count": null,
   "source": [
    "####### Importance of Reintrduction\r\n"
   ],
   "outputs": [],
   "metadata": {}
  },
  {
   "cell_type": "code",
   "execution_count": null,
   "source": [
    "####### Model Realism\r\n"
   ],
   "outputs": [],
   "metadata": {}
  },
  {
   "cell_type": "code",
   "execution_count": null,
   "source": [
    "####### Strategy vs Model\r\n"
   ],
   "outputs": [],
   "metadata": {}
  },
  {
   "cell_type": "code",
   "execution_count": null,
   "source": [
    "####### Relating 1-D vs 2-D Models\r\n"
   ],
   "outputs": [],
   "metadata": {}
  }
 ],
 "metadata": {
  "orig_nbformat": 4,
  "language_info": {
   "name": "python"
  }
 },
 "nbformat": 4,
 "nbformat_minor": 2
}